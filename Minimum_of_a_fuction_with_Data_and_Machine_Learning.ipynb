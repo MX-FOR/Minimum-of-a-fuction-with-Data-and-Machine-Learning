{
  "nbformat": 4,
  "nbformat_minor": 0,
  "metadata": {
    "colab": {
      "provenance": [],
      "collapsed_sections": [
        "vuLn6TiDz35H",
        "uzSKkN733k4Q"
      ],
      "mount_file_id": "1ZZbruVLw5cQzK22eQXcRtvjm_Zldhr0_",
      "authorship_tag": "ABX9TyPWPo+rzl/fRkPhZGXpH/XM",
      "include_colab_link": true
    },
    "kernelspec": {
      "name": "python3",
      "display_name": "Python 3"
    },
    "language_info": {
      "name": "python"
    }
  },
  "cells": [
    {
      "cell_type": "markdown",
      "metadata": {
        "id": "view-in-github",
        "colab_type": "text"
      },
      "source": [
        "<a href=\"https://colab.research.google.com/github/MX-FOR/Minimum-of-a-fuction-with-Data-and-Machine-Learning/blob/main/Minimum_of_a_fuction_with_Data_and_Machine_Learning.ipynb\" target=\"_parent\"><img src=\"https://colab.research.google.com/assets/colab-badge.svg\" alt=\"Open In Colab\"/></a>"
      ]
    },
    {
      "cell_type": "markdown",
      "source": [
        "# De datos en .csv a función con variables dinámicas"
      ],
      "metadata": {
        "id": "vVwlrO97KX1a"
      }
    },
    {
      "cell_type": "markdown",
      "source": [
        "Importo mis paquetes necesarios"
      ],
      "metadata": {
        "id": "IkEbH5-d_njy"
      }
    },
    {
      "cell_type": "code",
      "source": [
        "import numpy as np \n",
        "import pandas as pd\n",
        "\n",
        "from scipy.optimize import curve_fit,minimize #from scipy.optimize import minimize \n",
        "import matplotlib.pyplot as plt\n"
      ],
      "metadata": {
        "id": "8gyyVGk9rJBB"
      },
      "execution_count": 60,
      "outputs": []
    },
    {
      "cell_type": "markdown",
      "source": [
        "Tengo que definir una funcion objetivo (Conozco el comportamiendo de mis datos)"
      ],
      "metadata": {
        "id": "rLQH-YZDAIfK"
      }
    },
    {
      "cell_type": "code",
      "source": [
        "def objetive (x,a,b,c) : \n",
        "  return a*x + b*x**2 + c #De manera general defino mi funcion como cuadratica "
      ],
      "metadata": {
        "id": "VUcy4LPrrkLa"
      },
      "execution_count": 61,
      "outputs": []
    },
    {
      "cell_type": "markdown",
      "source": [
        "Vamos a importar mis datos  "
      ],
      "metadata": {
        "id": "Nj7014kJr0u8"
      }
    },
    {
      "cell_type": "code",
      "source": [
        "url = 'https://raw.githubusercontent.com/jbrownlee/Datasets/master/longley.csv'\n",
        "#df = pd.read_csv('data.csv')\n",
        "\n",
        "dataframe = pd.read_csv(url , header = None)\n",
        "\n",
        "data = dataframe.values\n"
      ],
      "metadata": {
        "id": "Jg2FAEXpr4qD"
      },
      "execution_count": 62,
      "outputs": []
    },
    {
      "cell_type": "markdown",
      "source": [
        "Escojo un rango de mi funcion objetivo y aplico que mis variables dinamicas coincidan con mis datos"
      ],
      "metadata": {
        "id": "ZG5aN6nxA1YJ"
      }
    },
    {
      "cell_type": "code",
      "source": [
        "x, y = data[:, 5], data[:, -5]\n",
        "\n",
        "popt, _ = curve_fit(objective, x, y)\n",
        "\n",
        "\n",
        "a, b, c = popt\n"
      ],
      "metadata": {
        "id": "7ex7f4a2AtYJ"
      },
      "execution_count": 63,
      "outputs": []
    },
    {
      "cell_type": "markdown",
      "source": [
        "Mi funcion quedaria de la siguiente manera"
      ],
      "metadata": {
        "id": "MdAEb4iGFPrh"
      }
    },
    {
      "cell_type": "code",
      "source": [
        "print('y = %.3f * x + %.3f * x**2 + %.3f' % (a, b, c))"
      ],
      "metadata": {
        "colab": {
          "base_uri": "https://localhost:8080/"
        },
        "id": "CZftThcaFMxk",
        "outputId": "b6498bbc-b562-4ea4-b2b3-44d3118dbbcc"
      },
      "execution_count": 64,
      "outputs": [
        {
          "output_type": "stream",
          "name": "stdout",
          "text": [
            "y = -5085.213 * x + 1.304 * x**2 + 4956998.436\n"
          ]
        }
      ]
    },
    {
      "cell_type": "markdown",
      "source": [
        "Graficando mi funcion y datos "
      ],
      "metadata": {
        "id": "5VfIOO85B4U_"
      }
    },
    {
      "cell_type": "code",
      "source": [
        "plt.scatter(x, y)\n",
        "# Definimos la secuencia  de in - out puts entre sus limites \n",
        "x_line = arange(min(x), max(x), 1)\n",
        "y_line = objective(x_line, a, b, c)\n",
        "# Mapping function\n",
        "plt.plot(x_line, y_line, '--', color='red')\n",
        "plt.show()"
      ],
      "metadata": {
        "colab": {
          "base_uri": "https://localhost:8080/",
          "height": 265
        },
        "id": "xCMM65iLxZfE",
        "outputId": "22cf6f11-29b4-490b-835e-9d0026f67f2d"
      },
      "execution_count": 65,
      "outputs": [
        {
          "output_type": "display_data",
          "data": {
            "text/plain": [
              "<Figure size 432x288 with 1 Axes>"
            ],
            "image/png": "[encoded data removed]"
          },
          "metadata": {
            "needs_background": "light"
          }
        }
      ]
    },
    {
      "cell_type": "markdown",
      "source": [
        "# Minimo de mi función usando Nelder-Mead Optimization"
      ],
      "metadata": {
        "id": "W0jHaGIwCBT3"
      }
    },
    {
      "cell_type": "markdown",
      "source": [
        "Graficamos nuestra función con un rango determinado "
      ],
      "metadata": {
        "id": "-67m0llP0RSX"
      }
    },
    {
      "cell_type": "code",
      "source": [
        "def func(x):\n",
        "    x = 5085.213 * x + 1.304 * x**2 + 4956998.436\n",
        "    return x\n",
        " \n",
        "x = np.arange(-6000, 6000, 2)\n",
        "y = func(x)\n",
        "\n",
        "plt.plot(x, y)\n",
        "plt.grid()\n",
        "plt.show()"
      ],
      "metadata": {
        "colab": {
          "base_uri": "https://localhost:8080/",
          "height": 276
        },
        "id": "hpkBDpr7C742",
        "outputId": "95317b9b-5974-4e37-a9fd-dee14c49a4fd"
      },
      "execution_count": 68,
      "outputs": [
        {
          "output_type": "display_data",
          "data": {
            "text/plain": [
              "<Figure size 432x288 with 1 Axes>"
            ],
            "image/png": "[encoded data removed]"
          },
          "metadata": {
            "needs_background": "light"
          }
        }
      ]
    },
    {
      "cell_type": "markdown",
      "source": [
        "Aplicamos el algoritmo "
      ],
      "metadata": {
        "id": "NV1h-4ma0Vm3"
      }
    },
    {
      "cell_type": "code",
      "source": [
        "x0 = -1\n",
        "result = minimize(func, x0, method=\"nelder-mead\")\n",
        "print(result) "
      ],
      "metadata": {
        "colab": {
          "base_uri": "https://localhost:8080/"
        },
        "id": "UmOWmY3jDi5M",
        "outputId": "b13e9494-169d-4d0f-d7a0-03b093966962"
      },
      "execution_count": 69,
      "outputs": [
        {
          "output_type": "stream",
          "name": "stdout",
          "text": [
            " final_simplex: (array([[-1949.8515625 ],\n",
            "       [-1949.85166016]]), array([-706.94271338, -706.94271338]))\n",
            "           fun: -706.9427133789286\n",
            "       message: 'Optimization terminated successfully.'\n",
            "          nfev: 76\n",
            "           nit: 38\n",
            "        status: 0\n",
            "       success: True\n",
            "             x: array([-1949.8515625])\n"
          ]
        }
      ]
    },
    {
      "cell_type": "markdown",
      "source": [
        "Graficamos con nuestro minimo absoluto"
      ],
      "metadata": {
        "id": "wh-4u3xg0sVS"
      }
    },
    {
      "cell_type": "code",
      "source": [
        "plt.title(\"Minimo de la función\")\n",
        "plt.plot(x, y, label=\"y\")\n",
        "plt.plot(result['x'], result['fun'], 'sr', label=\"Min\")\n",
        "plt.legend(loc='best', fancybox=True, shadow=True)\n",
        "plt.grid()\n",
        "plt.show()"
      ],
      "metadata": {
        "colab": {
          "base_uri": "https://localhost:8080/",
          "height": 281
        },
        "id": "2prsJ6X9DxFM",
        "outputId": "280dc386-f71e-4b82-c90e-6f00cf61ee41"
      },
      "execution_count": 73,
      "outputs": [
        {
          "output_type": "display_data",
          "data": {
            "text/plain": [
              "<Figure size 432x288 with 1 Axes>"
            ],
            "image/png": "[encoded data removed]"
          },
          "metadata": {
            "needs_background": "light"
          }
        }
      ]
    },
    {
      "cell_type": "markdown",
      "source": [
        "# Scipy.optimize ejemplo  (Para funciones de varias variables) "
      ],
      "metadata": {
        "id": "vuLn6TiDz35H"
      }
    },
    {
      "cell_type": "code",
      "source": [
        "import math\n",
        "import random\n",
        "import sys\n",
        "\n",
        "def function(x, y):\n",
        "    exp = (math.pow(x, 2) + math.pow(y, 2)) * -1\n",
        "    return math.exp(exp) * math.cos(x * y) * math.sin(x * y)\n",
        "\n",
        "max_func = - sys.maxsize - 1\n",
        "min_func = sys.maxsize\n",
        "maximal_x, maximal_y = None, None\n",
        "minimal_x, minimal_y = None, None\n",
        "\n",
        "for i in range(1000000):\n",
        "    randx = random.random()*2 - 1\n",
        "    randy = random.random()*2 - 1\n",
        "    result = function(randx, randy)\n",
        "    max_func = max(max_func, result)\n",
        "    if max_func == result:\n",
        "        maximal_x, maximal_y = randx, randy\n",
        "    min_func = min(min_func, result)\n",
        "    if min_func == result:\n",
        "        minimal_x, minimal_y = randx, randy\n",
        "\n",
        "print (\"Maximal (x, y):\", (maximal_x, maximal_y))\n",
        "print (\"Max func value:\", max_func, '\\n')\n",
        "print (\"Minimal (x, y):\", (minimal_x, minimal_y))\n",
        "print(\"Min func value:\", min_func)"
      ],
      "metadata": {
        "colab": {
          "base_uri": "https://localhost:8080/"
        },
        "id": "Q5K1f1JDz-Eb",
        "outputId": "bb7bdea2-8887-4185-d552-950d4e158217"
      },
      "execution_count": 74,
      "outputs": [
        {
          "output_type": "stream",
          "name": "stdout",
          "text": [
            "Maximal (x, y): (-0.62643216838678, -0.6267788199080893)\n",
            "Max func value: 0.16119844890503862 \n",
            "\n",
            "Minimal (x, y): (-0.6265856421821006, 0.6266241150691021)\n",
            "Min func value: -0.1611984679750025\n"
          ]
        }
      ]
    },
    {
      "cell_type": "code",
      "source": [
        "from scipy.optimize import minimize_scalar\n",
        "\n",
        "def f(x):\n",
        "  #return (-0.012*x**2 + 3.254*x -155)\n",
        "  #3.254 * x + -0.012 * x^2 + -155.028\n",
        "  return (x - 2) * x * (x + 2)**2\n",
        "\n",
        "\n",
        "res = minimize_scalar(f)\n",
        "\n",
        "res.x\n",
        "\n",
        "\n",
        "#res = minimize_scalar(f, bounds=(-3, -1), method='bounded')\n",
        "#res.x"
      ],
      "metadata": {
        "colab": {
          "base_uri": "https://localhost:8080/"
        },
        "id": "GdrK0NAcKNC7",
        "outputId": "52ede1a4-1cf4-469e-fb7d-a5aa6b49caf0"
      },
      "execution_count": 75,
      "outputs": [
        {
          "output_type": "execute_result",
          "data": {
            "text/plain": [
              "1.2807764040333458"
            ]
          },
          "metadata": {},
          "execution_count": 75
        }
      ]
    }
  ]
}